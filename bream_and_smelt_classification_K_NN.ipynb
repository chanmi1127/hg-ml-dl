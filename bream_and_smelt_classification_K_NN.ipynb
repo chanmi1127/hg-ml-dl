{
  "nbformat": 4,
  "nbformat_minor": 0,
  "metadata": {
    "colab": {
      "name": "bream_and_smelt_classification_K-NN.ipynb",
      "provenance": [],
      "authorship_tag": "ABX9TyOukQmsxB6v8apIsPSUV+Ki"
    },
    "kernelspec": {
      "name": "python3",
      "display_name": "Python 3"
    },
    "language_info": {
      "name": "python"
    }
  },
  "cells": [
    {
      "cell_type": "markdown",
      "metadata": {
        "id": "qIK96LrPQcg0"
      },
      "source": [
        "출처: 혼자 공부하는 머신러닝+딥러닝 (박해선) \n",
        "\n",
        "데이터 셋 : https://www.kaggle.com/aungpyaeap/fish-market\n",
        "\n"
      ]
    },
    {
      "cell_type": "code",
      "metadata": {
        "id": "Bvg6JEMUD7I8"
      },
      "source": [
        "import matplotlib.pyplot as plt\n",
        "from sklearn.neighbors import KNeighborsClassifier"
      ],
      "execution_count": 21,
      "outputs": []
    },
    {
      "cell_type": "markdown",
      "metadata": {
        "id": "xZEFueR8KWPO"
      },
      "source": [
        "# 도미 데이터"
      ]
    },
    {
      "cell_type": "code",
      "metadata": {
        "colab": {
          "base_uri": "https://localhost:8080/",
          "height": 296
        },
        "id": "nvxZmYyCEDbV",
        "outputId": "d648db3e-2157-4734-a44b-f1a549017626"
      },
      "source": [
        "# 도미 길이\n",
        "bream_length = [25.4, 26.3, 26.5, 29.0, 29.0, 29.7, 29.7, 30.0, 30.0, 30.7, 31.0, 31.0, 31.5, 32.0, 32.0, 32.0, 33.0, 33.0, 33.5, 33.5, 34.0, 34.0, 34.5, 35.0, 35.0, 35.0, 35.0, 36.0, 36.0, 37.0, 38.5, 38.5, 39.5, 41.0, 41.0]\n",
        "# 도미 무게\n",
        "bream_weight = [242.0, 290.0, 340.0, 363.0, 430.0, 450.0, 500.0, 390.0, 450.0, 500.0, 475.0, 500.0, 500.0, 340.0, 600.0, 600.0, 700.0, 700.0, 610.0, 650.0, 575.0, 685.0, 620.0, 680.0, 700.0, 725.0, 720.0, 714.0, 850.0, 1000.0, 920.0, 955.0, 925.0, 975.0, 950.0]\n",
        "\n",
        "plt.scatter(bream_length, bream_weight)\n",
        "plt.xlabel(\"bream's length\")\n",
        "plt.ylabel(\"bream's weight\")\n",
        "plt.show"
      ],
      "execution_count": 4,
      "outputs": [
        {
          "output_type": "execute_result",
          "data": {
            "text/plain": [
              "<function matplotlib.pyplot.show>"
            ]
          },
          "metadata": {},
          "execution_count": 4
        },
        {
          "output_type": "display_data",
          "data": {
            "image/png": "[encoded data removed]",
            "text/plain": [
              "<Figure size 432x288 with 1 Axes>"
            ]
          },
          "metadata": {
            "needs_background": "light"
          }
        }
      ]
    },
    {
      "cell_type": "markdown",
      "metadata": {
        "id": "S3qFe_jUKF4M"
      },
      "source": [
        "- 도미의 길이가 길수록 무게가 커지는 경향을 보인다. 도미의 길이와 무게 사이 선형적 관게가 나타난다. \n"
      ]
    },
    {
      "cell_type": "markdown",
      "metadata": {
        "id": "PRwCf-PTKDuW"
      },
      "source": [
        "# 빙어 데이터"
      ]
    },
    {
      "cell_type": "code",
      "metadata": {
        "colab": {
          "base_uri": "https://localhost:8080/",
          "height": 296
        },
        "id": "53PcYf50KziR",
        "outputId": "0b9ca05a-4e5e-4209-bda2-239ba29bd2fd"
      },
      "source": [
        "# 빙어 길이\n",
        "smelt_length = [9.8, 10.5, 10.6, 11.0, 11.2, 11.3, 11.8, 11.8, 12.0, 12.2, 12.4, 13.0, 14.3, 15.0]\n",
        "# 빙어 무게 \n",
        "smelt_weight = [6.7, 7.5, 7.0, 9.7, 9.8, 8.7, 10.0, 9.9, 9.8, 12.2, 13.4, 12.2, 19.7, 19.9]\n",
        "\n",
        "plt.scatter(smelt_length, smelt_weight)\n",
        "plt.xlabel(\"smelt's length\")\n",
        "plt.ylabel(\"smelt's weight\")\n",
        "plt.show"
      ],
      "execution_count": 8,
      "outputs": [
        {
          "output_type": "execute_result",
          "data": {
            "text/plain": [
              "<function matplotlib.pyplot.show>"
            ]
          },
          "metadata": {},
          "execution_count": 8
        },
        {
          "output_type": "display_data",
          "data": {
            "image/png": "[encoded data removed]",
            "text/plain": [
              "<Figure size 432x288 with 1 Axes>"
            ]
          },
          "metadata": {
            "needs_background": "light"
          }
        }
      ]
    },
    {
      "cell_type": "markdown",
      "metadata": {
        "id": "TSGuO6WoLJRM"
      },
      "source": [
        "- 빙어도 길이가 길수록 무게가 커지는 경향을 보인다. 빙어의 길이와 무게 사이 선형적 관게가 나타난다."
      ]
    },
    {
      "cell_type": "markdown",
      "metadata": {
        "id": "1t298emjLVNb"
      },
      "source": [
        "## 도미와 빙어 산점도 한 그래프에 나타내기"
      ]
    },
    {
      "cell_type": "code",
      "metadata": {
        "colab": {
          "base_uri": "https://localhost:8080/",
          "height": 296
        },
        "id": "s5XwLeryLIc_",
        "outputId": "a307c1a3-1cce-4596-9495-3eec5706487e"
      },
      "source": [
        "plt.scatter(bream_length, bream_weight)\n",
        "plt.scatter(smelt_length, smelt_weight)\n",
        "plt.xlabel(\"length\")\n",
        "plt.ylabel(\"weight\")\n",
        "plt.legend(('bream', 'smelt'))\n",
        "plt.show"
      ],
      "execution_count": 12,
      "outputs": [
        {
          "output_type": "execute_result",
          "data": {
            "text/plain": [
              "<function matplotlib.pyplot.show>"
            ]
          },
          "metadata": {},
          "execution_count": 12
        },
        {
          "output_type": "display_data",
          "data": {
            "image/png": "[encoded data removed]",
            "text/plain": [
              "<Figure size 432x288 with 1 Axes>"
            ]
          },
          "metadata": {
            "needs_background": "light"
          }
        }
      ]
    },
    {
      "cell_type": "markdown",
      "metadata": {
        "id": "7pl6SfS8MkKR"
      },
      "source": [
        "- 빙어도 도미와 비슷하게 길이와 무게가 비례하지만 증가하는 정도에서 도미와 차이가 난다. 빙어는 도미에 비해 상대적으로 길이가 늘어나더라도 무게가 많이 늘어나지 않는다. 빙어의 산점도도 선형적이지만 무게가 길이의 영향을 덜 받는다. "
      ]
    },
    {
      "cell_type": "markdown",
      "metadata": {
        "id": "yfou8BNnOuzn"
      },
      "source": [
        "# 도미와 빙어 분류 모델"
      ]
    },
    {
      "cell_type": "markdown",
      "metadata": {
        "id": "WRRRpXHXO2nE"
      },
      "source": [
        "## 데이터 준비"
      ]
    },
    {
      "cell_type": "code",
      "metadata": {
        "colab": {
          "base_uri": "https://localhost:8080/"
        },
        "id": "e7bG0NGPM62_",
        "outputId": "a41066e4-0de7-4e95-8b0c-2cbd926875c5"
      },
      "source": [
        "length = bream_length + smelt_length\n",
        "weight = bream_weight + smelt_weight\n",
        "\n",
        "fish_data = [[l, w] for l, w in zip(length, weight)]\n",
        "print(fish_data)"
      ],
      "execution_count": 18,
      "outputs": [
        {
          "output_type": "stream",
          "text": [
            "[[25.4, 242.0], [26.3, 290.0], [26.5, 340.0], [29.0, 363.0], [29.0, 430.0], [29.7, 450.0], [29.7, 500.0], [30.0, 390.0], [30.0, 450.0], [30.7, 500.0], [31.0, 475.0], [31.0, 500.0], [31.5, 500.0], [32.0, 340.0], [32.0, 600.0], [32.0, 600.0], [33.0, 700.0], [33.0, 700.0], [33.5, 610.0], [33.5, 650.0], [34.0, 575.0], [34.0, 685.0], [34.5, 620.0], [35.0, 680.0], [35.0, 700.0], [35.0, 725.0], [35.0, 720.0], [36.0, 714.0], [36.0, 850.0], [37.0, 1000.0], [38.5, 920.0], [38.5, 955.0], [39.5, 925.0], [41.0, 975.0], [41.0, 950.0], [9.8, 6.7], [10.5, 7.5], [10.6, 7.0], [11.0, 9.7], [11.2, 9.8], [11.3, 8.7], [11.8, 10.0], [11.8, 9.9], [12.0, 9.8], [12.2, 12.2], [12.4, 13.4], [13.0, 12.2], [14.3, 19.7], [15.0, 19.9]]\n"
          ],
          "name": "stdout"
        }
      ]
    },
    {
      "cell_type": "markdown",
      "metadata": {
        "id": "Gl6aG43nNwfr"
      },
      "source": [
        "* 참고\n",
        "zip 함수: 나열된 리스트 각각에서 하나씩 원소를 꺼내서 반환한다. "
      ]
    },
    {
      "cell_type": "markdown",
      "metadata": {
        "id": "87Krl6OJPOjV"
      },
      "source": [
        "- 도미는 1, 빙어는 0으로 labeling함. 머신러닝에서는 찾으려는 대상을 1로 놓고, 그 외는 0으로 둔다. "
      ]
    },
    {
      "cell_type": "code",
      "metadata": {
        "colab": {
          "base_uri": "https://localhost:8080/"
        },
        "id": "jbIna7FwNvqB",
        "outputId": "48737cd6-a880-43d3-8093-2eccc5144251"
      },
      "source": [
        "fish_target = [1] * 35 + [0] * 14\n",
        "print(fish_target)"
      ],
      "execution_count": 19,
      "outputs": [
        {
          "output_type": "stream",
          "text": [
            "[1, 1, 1, 1, 1, 1, 1, 1, 1, 1, 1, 1, 1, 1, 1, 1, 1, 1, 1, 1, 1, 1, 1, 1, 1, 1, 1, 1, 1, 1, 1, 1, 1, 1, 1, 0, 0, 0, 0, 0, 0, 0, 0, 0, 0, 0, 0, 0, 0]\n"
          ],
          "name": "stdout"
        }
      ]
    },
    {
      "cell_type": "code",
      "metadata": {
        "colab": {
          "base_uri": "https://localhost:8080/"
        },
        "id": "tnre-z67QHSl",
        "outputId": "4676fc11-18ce-48ba-fa20-1f51a3115170"
      },
      "source": [
        "# KNeighborsClassifier 객체 생성\n",
        "kn = KNeighborsClassifier()\n",
        "# 모델 훈련\n",
        "kn.fit(fish_data, fish_target)\n",
        "# 모델의 정확도 계산\n",
        "kn.score(fish_data, fish_target)\n"
      ],
      "execution_count": 24,
      "outputs": [
        {
          "output_type": "execute_result",
          "data": {
            "text/plain": [
              "1.0"
            ]
          },
          "metadata": {},
          "execution_count": 24
        }
      ]
    },
    {
      "cell_type": "markdown",
      "metadata": {
        "id": "Aw0C1cyRRH-S"
      },
      "source": [
        "- 모델의 정확도가 100%이다. "
      ]
    },
    {
      "cell_type": "code",
      "metadata": {
        "colab": {
          "base_uri": "https://localhost:8080/"
        },
        "id": "oJR8uW4ARHgd",
        "outputId": "bf9d368b-d285-4d49-8d8c-3966440e4cf8"
      },
      "source": [
        "# 새로운 데이터의 정답 예측\n",
        "kn.predict([[30, 600]])"
      ],
      "execution_count": 29,
      "outputs": [
        {
          "output_type": "execute_result",
          "data": {
            "text/plain": [
              "array([1])"
            ]
          },
          "metadata": {},
          "execution_count": 29
        }
      ]
    },
    {
      "cell_type": "markdown",
      "metadata": {
        "id": "BCt7bloNTEyv"
      },
      "source": [
        "- 길이가 30, 무게가 600인 데이터를 넣으면 도미(1)라고 예측할 것이다. KNeighborsClassifier는 기본으로 가까운 5개의 데이터를 참고해서 결과를 예측한다. 참고할 데이터의 개수는 n_neighbors = n 을 매개변수로 변경할 수 있다. (예: kn = KNeighborsClassifier(n_neighbors = 49))"
      ]
    },
    {
      "cell_type": "code",
      "metadata": {
        "colab": {
          "base_uri": "https://localhost:8080/",
          "height": 296
        },
        "id": "nlVMwexaSwsL",
        "outputId": "89e7a290-8f0a-4ac9-f0be-731ac60b9d38"
      },
      "source": [
        "plt.scatter(bream_length, bream_weight)\n",
        "plt.scatter(smelt_length, smelt_weight)\n",
        "plt.scatter(30, 600, marker ='^')\n",
        "plt.xlabel(\"length\")\n",
        "plt.ylabel(\"weight\")\n",
        "plt.legend(('bream', 'smelt', 'test_fish'))\n",
        "plt.show"
      ],
      "execution_count": 28,
      "outputs": [
        {
          "output_type": "execute_result",
          "data": {
            "text/plain": [
              "<function matplotlib.pyplot.show>"
            ]
          },
          "metadata": {},
          "execution_count": 28
        },
        {
          "output_type": "display_data",
          "data": {
            "image/png": "[encoded data removed]",
            "text/plain": [
              "<Figure size 432x288 with 1 Axes>"
            ]
          },
          "metadata": {
            "needs_background": "light"
          }
        }
      ]
    },
    {
      "cell_type": "markdown",
      "metadata": {
        "id": "Ui0kOa4IvPtc"
      },
      "source": [
        "# 5부터 49까지 n_neighbors 중에서 1.0 아래로 내려가기 시작하는 개수 찾기"
      ]
    },
    {
      "cell_type": "markdown",
      "metadata": {
        "id": "Z__pyXiEzzoU"
      },
      "source": [
        "- 방법 1"
      ]
    },
    {
      "cell_type": "code",
      "metadata": {
        "colab": {
          "base_uri": "https://localhost:8080/"
        },
        "id": "BGBL70MVvDrJ",
        "outputId": "7ba19dc2-b418-4f32-9ff0-3c50eef514da"
      },
      "source": [
        "for n in range(5, 50):\n",
        "  kn.n_neighbors = KNeighborsClassifier(n_neighbors = n)\n",
        "  kn.n_neighbors.fit(fish_data, fish_target)\n",
        "  score = kn.n_neighbors.score(fish_data, fish_target)\n",
        "\n",
        "  if score < 1:\n",
        "    print(n, score)\n",
        "    break"
      ],
      "execution_count": 32,
      "outputs": [
        {
          "output_type": "stream",
          "text": [
            "18 0.9795918367346939\n"
          ],
          "name": "stdout"
        }
      ]
    },
    {
      "cell_type": "markdown",
      "metadata": {
        "id": "aagc_Y8E0OFw"
      },
      "source": [
        "- 방법 2"
      ]
    },
    {
      "cell_type": "code",
      "metadata": {
        "colab": {
          "base_uri": "https://localhost:8080/"
        },
        "id": "c_nNUNA0z1-X",
        "outputId": "3eff40ad-3537-40a3-e268-e1429e52b367"
      },
      "source": [
        "kn = KNeighborsClassifier()\n",
        "kn.fit(fish_data, fish_target)\n",
        "\n",
        "for n in range(5, 50):\n",
        "  kn.n_neighbors = n\n",
        "  score = kn.score(fish_data, fish_target)\n",
        "\n",
        "  if score < 1:\n",
        "    print(n, score)\n",
        "    break"
      ],
      "execution_count": 34,
      "outputs": [
        {
          "output_type": "stream",
          "text": [
            "18 0.9795918367346939\n"
          ],
          "name": "stdout"
        }
      ]
    }
  ]
}